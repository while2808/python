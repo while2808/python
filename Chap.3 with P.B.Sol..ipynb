{
 "cells": [
  {
   "cell_type": "markdown",
   "id": "d6349ae6",
   "metadata": {},
   "source": [
    "# Chap.3 || Function & Scoping"
   ]
  },
  {
   "cell_type": "code",
   "execution_count": null,
   "id": "11f21b4c",
   "metadata": {},
   "outputs": [],
   "source": [
    "def demo(rno, name = None):\n",
    "    print(\"Roll No.:\", rno)\n",
    "    print(\"Name :\", name)\n",
    "demo(4, \"Romil\")"
   ]
  },
  {
   "cell_type": "code",
   "execution_count": null,
   "id": "0edc1ecc",
   "metadata": {},
   "outputs": [],
   "source": [
    "def s(a):\n",
    "    sum = 0\n",
    "    while(a > 0):\n",
    "        b = int(input(\"Enter No.: \"))\n",
    "        sum += b\n",
    "        a -= 1\n",
    "    print(sum)\n",
    "    \n",
    "v = int(input(\"Enter Value.: \"))\n",
    "s(v)"
   ]
  },
  {
   "cell_type": "markdown",
   "id": "ce49e25c",
   "metadata": {},
   "source": [
    "### after default value we can't use normal values. . ."
   ]
  },
  {
   "cell_type": "code",
   "execution_count": null,
   "id": "d559f13e",
   "metadata": {},
   "outputs": [],
   "source": [
    "def seq(*a,b = None):\n",
    "    print(a) # (2, 3, 4, 5)\n",
    "    print(b) # None\n",
    "    \n",
    "seq(2,3,4,5)"
   ]
  },
  {
   "cell_type": "code",
   "execution_count": null,
   "id": "0aa3a46c",
   "metadata": {},
   "outputs": [],
   "source": [
    "def seq(b, *a):\n",
    "    print(a) # (3, 4, 5)\n",
    "    print(b) # 2\n",
    "    \n",
    "seq(2,3,4,5)"
   ]
  },
  {
   "cell_type": "code",
   "execution_count": null,
   "id": "f17b9b50",
   "metadata": {},
   "outputs": [],
   "source": [
    "def seq(*a):\n",
    "    c = 0\n",
    "    for i in a:\n",
    "        c = c + i\n",
    "    print(c)\n",
    "        \n",
    "seq(2,3,4,5) # 14"
   ]
  },
  {
   "cell_type": "code",
   "execution_count": null,
   "id": "6784eca9",
   "metadata": {},
   "outputs": [],
   "source": [
    "def seq(**a):\n",
    "    print(a) # {'a': 20, 'b': 30}\n",
    "\n",
    "seq(a=20, b=30)"
   ]
  },
  {
   "cell_type": "markdown",
   "id": "8f79aa46",
   "metadata": {},
   "source": [
    "### 222. Create a pair of functions to convert Fahrenheit to Celsius temperature values and vice versa. Where C = (F - 32) * (5 / 9) "
   ]
  },
  {
   "cell_type": "code",
   "execution_count": null,
   "id": "322fde4b",
   "metadata": {},
   "outputs": [],
   "source": [
    "def demo(f):\n",
    "    c = (f-32)*(5/9)\n",
    "    print(\"Celcius :\",c)\n",
    "    \n",
    "demo(100)"
   ]
  },
  {
   "cell_type": "markdown",
   "id": "c0ac3097",
   "metadata": {},
   "source": [
    "### 223. Write a Python function to calculate the factorial of a given number."
   ]
  },
  {
   "cell_type": "code",
   "execution_count": null,
   "id": "c304e5cb",
   "metadata": {},
   "outputs": [],
   "source": [
    "def fact(n):\n",
    "    if(n<2):\n",
    "        return 1\n",
    "    else:\n",
    "        return n*fact(n-1)\n",
    "print(\"Factorial :\", fact(5)) # 120"
   ]
  },
  {
   "cell_type": "markdown",
   "id": "7a6c01a1",
   "metadata": {},
   "source": [
    "### 224. Write a Python function to check whether a number is in a given range."
   ]
  },
  {
   "cell_type": "code",
   "execution_count": null,
   "id": "29f569ad",
   "metadata": {},
   "outputs": [],
   "source": [
    "def cr(num, lb, hb):\n",
    "    \"\"\"fin takes 3 int vlaues.\n",
    "    Returns weather no. is in\n",
    "    range or not. -> It's called as Specifications.\"\"\"\n",
    "    if(num >= lb and num <= hb):\n",
    "        print(f\"{num} is in range {lb} to {hb}\")    \n",
    "    else:\n",
    "        print(f\"{num} is not in range\")\n",
    "        \n",
    "num = int(input(\"Enter Num.: \"))\n",
    "lb = int(input(\"Enter Lower bound : \"))\n",
    "hb = int(input(\"Enter Higer bound : \"))\n",
    "cr(num, lb, hb)"
   ]
  },
  {
   "cell_type": "markdown",
   "id": "3ef7a749",
   "metadata": {},
   "source": [
    "### 225. Write a Python function to display the Fibonacci sequence till the given user input n. "
   ]
  },
  {
   "cell_type": "code",
   "execution_count": null,
   "id": "7f704fe0",
   "metadata": {},
   "outputs": [],
   "source": [
    "def fibbo(n):\n",
    "    a,b = 0,1\n",
    "    c = 0\n",
    "    while(c<n):\n",
    "        print(a,end=\" \")\n",
    "        nth = a + b\n",
    "        a = b\n",
    "        b = nth\n",
    "        c += 1\n",
    "# end -> don't print in new line\n",
    "\n",
    "n = int(input(\"Enter No.: \"))\n",
    "fibbo(n)"
   ]
  },
  {
   "cell_type": "markdown",
   "id": "8ef0a80c",
   "metadata": {},
   "source": [
    "### 226. Write a Python function to find the Max of TWO numbers."
   ]
  },
  {
   "cell_type": "code",
   "execution_count": null,
   "id": "19fdf7f1",
   "metadata": {},
   "outputs": [],
   "source": [
    "def max(a, b):\n",
    "    if(a > b):\n",
    "        print(f'a = {a} is Greater')\n",
    "    else:\n",
    "        print(f'b = {b} is Greater')\n",
    "\n",
    "max(1,5)"
   ]
  },
  {
   "cell_type": "markdown",
   "id": "8976c408",
   "metadata": {},
   "source": [
    "###  193. What will be the output of the following Python code?"
   ]
  },
  {
   "cell_type": "code",
   "execution_count": null,
   "id": "5a119fb5",
   "metadata": {},
   "outputs": [],
   "source": [
    "a=10\n",
    "b=20\n",
    "def change():\n",
    "    global b\n",
    "    a=45\n",
    "    b=56\n",
    "    \n",
    "change()\n",
    "print(a) # 10\n",
    "print(b) # 56\n"
   ]
  },
  {
   "cell_type": "markdown",
   "id": "25a90f1a",
   "metadata": {},
   "source": [
    "### 234. Write your own python program for computing square roots that implements Newton’s Method. Use of inbuilt function, \n",
    "### math library or x**0.5 is not allowed.\n",
    "### Newton Method is a category of guess-and-check approach. You first guess what the square root might be and then see \n",
    "### how close your guess is. You can use this information to make another guess and continue guessing until you have found \n",
    "### the square root (or a close approximation to it). Suppose x is the number we want the root of and guess is the current \n",
    "### guessed answer. The guess can be improved by using (guess+ x/guess)/2 as the next guess.\n",
    "### The program should - \n",
    "### 1.\tPrompt the user for the value to find the square root of (x) and the number of times to improve the guess. \n",
    "### 2.\tStarting with a guess value of x/2, your program should loop the specified number of times applying Newton’s method \n",
    "### and report the final value of guess. "
   ]
  },
  {
   "cell_type": "code",
   "execution_count": 1,
   "id": "e28d9373",
   "metadata": {},
   "outputs": [
    {
     "name": "stdout",
     "output_type": "stream",
     "text": [
      "4.0000001858445895\n"
     ]
    }
   ],
   "source": [
    "def newton_sqrt(x, iterations):\n",
    "    guess = x / 2.0\n",
    "    \n",
    "    # Apply Newton's method for the specified number of iterations\n",
    "    for i in range(iterations):\n",
    "        guess = (guess + x / guess) / 2.0\n",
    "    \n",
    "    return guess\n",
    "x = 16\n",
    "itr = 4\n",
    "print(newton_sqrt(x, itr)) # 4.0000001858445895"
   ]
  }
 ],
 "metadata": {
  "kernelspec": {
   "display_name": "Python 3 (ipykernel)",
   "language": "python",
   "name": "python3"
  },
  "language_info": {
   "codemirror_mode": {
    "name": "ipython",
    "version": 3
   },
   "file_extension": ".py",
   "mimetype": "text/x-python",
   "name": "python",
   "nbconvert_exporter": "python",
   "pygments_lexer": "ipython3",
   "version": "3.8.5"
  }
 },
 "nbformat": 4,
 "nbformat_minor": 5
}

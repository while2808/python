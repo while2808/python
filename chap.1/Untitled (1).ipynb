{
 "cells": [
  {
   "cell_type": "code",
   "execution_count": null,
   "id": "0043e62c",
   "metadata": {},
   "outputs": [],
   "source": [
    "print(print(print(\"python\")))"
   ]
  },
  {
   "cell_type": "code",
   "execution_count": null,
   "id": "50fffb26",
   "metadata": {},
   "outputs": [],
   "source": [
    "'2' == 2"
   ]
  },
  {
   "cell_type": "code",
   "execution_count": null,
   "id": "08f964ca",
   "metadata": {},
   "outputs": [],
   "source": [
    "print(True ** False / True) # 1.0\n",
    "# True 1\n",
    "# False 0"
   ]
  },
  {
   "cell_type": "code",
   "execution_count": null,
   "id": "2cd749ef",
   "metadata": {},
   "outputs": [],
   "source": [
    "a = 0\n",
    "b = 6\n",
    "# x = (a or b) and ((a and a)or (a and b)) # 0\n",
    "x = (a or b) or ((a and a)or (a and b)) # 6\n",
    "print(x) # 6 -> bcs first ans. will be 6 then not neccesary to check others."
   ]
  },
  {
   "cell_type": "code",
   "execution_count": null,
   "id": "fe493f01",
   "metadata": {},
   "outputs": [],
   "source": [
    "print(0 or 0.02 or \"\" or false) # 0.02"
   ]
  },
  {
   "cell_type": "code",
   "execution_count": null,
   "id": "e46c5a68",
   "metadata": {},
   "outputs": [],
   "source": [
    "x = 0 or 0.02 or \"\" or false\n",
    "print(not(x)) # False"
   ]
  },
  {
   "cell_type": "code",
   "execution_count": null,
   "id": "47b009ab",
   "metadata": {},
   "outputs": [],
   "source": [
    "x = 0.0\n",
    "y = 48 > 0\n",
    "z = 11 < 7\n",
    "print(not(float(x or y or z))) # False"
   ]
  },
  {
   "cell_type": "code",
   "execution_count": null,
   "id": "80c047f7",
   "metadata": {},
   "outputs": [],
   "source": [
    "print(int(63.55+8/3)) # 66\n",
    "print(int(43.55+4/6)) # 44"
   ]
  },
  {
   "cell_type": "code",
   "execution_count": 5,
   "id": "42c6f527",
   "metadata": {},
   "outputs": [
    {
     "data": {
      "text/plain": [
       "27.2"
      ]
     },
     "execution_count": 5,
     "metadata": {},
     "output_type": "execute_result"
    }
   ],
   "source": [
    "2 + 9 * ((3*12)-8)/10"
   ]
  },
  {
   "cell_type": "code",
   "execution_count": 8,
   "id": "cb68e8fc",
   "metadata": {},
   "outputs": [
    {
     "ename": "SyntaxError",
     "evalue": "invalid syntax (<ipython-input-8-a8bd4d3182c8>, line 2)",
     "output_type": "error",
     "traceback": [
      "\u001b[1;36m  File \u001b[1;32m\"<ipython-input-8-a8bd4d3182c8>\"\u001b[1;36m, line \u001b[1;32m2\u001b[0m\n\u001b[1;33m    b = s-=2\u001b[0m\n\u001b[1;37m         ^\u001b[0m\n\u001b[1;31mSyntaxError\u001b[0m\u001b[1;31m:\u001b[0m invalid syntax\n"
     ]
    }
   ],
   "source": [
    "s = 10\n",
    "b = s-=2 # error\n",
    "print(b)"
   ]
  },
  {
   "cell_type": "code",
   "execution_count": null,
   "id": "9a0611e7",
   "metadata": {},
   "outputs": [],
   "source": []
  },
  {
   "cell_type": "code",
   "execution_count": null,
   "id": "d4b586c8",
   "metadata": {},
   "outputs": [],
   "source": []
  }
 ],
 "metadata": {
  "kernelspec": {
   "display_name": "Python 3 (ipykernel)",
   "language": "python",
   "name": "python3"
  },
  "language_info": {
   "codemirror_mode": {
    "name": "ipython",
    "version": 3
   },
   "file_extension": ".py",
   "mimetype": "text/x-python",
   "name": "python",
   "nbconvert_exporter": "python",
   "pygments_lexer": "ipython3",
   "version": "3.8.5"
  }
 },
 "nbformat": 4,
 "nbformat_minor": 5
}

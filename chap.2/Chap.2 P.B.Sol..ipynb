{
 "cells": [
  {
   "cell_type": "markdown",
   "id": "3a0580d6",
   "metadata": {},
   "source": [
    "# Chap.2 P.B. Sol."
   ]
  },
  {
   "cell_type": "markdown",
   "id": "fd71c41a",
   "metadata": {},
   "source": [
    "### 152. Write a program to determine a given number is ‘odd’ or ‘even’ and print the following message “Number is ODD” or “Number is Even”. "
   ]
  },
  {
   "cell_type": "code",
   "execution_count": null,
   "id": "85ec12f0",
   "metadata": {},
   "outputs": [],
   "source": [
    "a = int(input(\"enter no.: \"))\n",
    "if(a%2==0):\n",
    "    print(\"Number is Even\")\n",
    "else:\n",
    "    print(\"Number is ODD\")"
   ]
  },
  {
   "cell_type": "markdown",
   "id": "293dda25",
   "metadata": {},
   "source": [
    "### 153. Write a program to check if the input number is positive, negative or zero."
   ]
  },
  {
   "cell_type": "code",
   "execution_count": null,
   "id": "bbe8eca0",
   "metadata": {},
   "outputs": [],
   "source": [
    "a = int(input(\"enter no.: \"))\n",
    "if(a > 0):\n",
    "    print(\"+ve\")\n",
    "elif(a<0):\n",
    "    print(\"-ve\")\n",
    "else:\n",
    "    print(\"Zero!!\")"
   ]
  },
  {
   "cell_type": "markdown",
   "id": "a3375449",
   "metadata": {},
   "source": [
    "### 154. Write a program to find the maximum number among the three input numbers."
   ]
  },
  {
   "cell_type": "code",
   "execution_count": null,
   "id": "9dc6ed98",
   "metadata": {},
   "outputs": [],
   "source": [
    "a = int(input(\"Enter Value : \"))\n",
    "b = int(input(\"Enter Value : \"))\n",
    "c = int(input(\"Enter Value : \"))\n",
    "if(a < b):\n",
    "    if(c < b):\n",
    "        print(\"b is greater\")\n",
    "    else:\n",
    "        print(\"c is greater\")\n",
    "elif(b < c):\n",
    "    if(c < a):\n",
    "        print(\"a is greater\")\n",
    "    else:\n",
    "        print(\"c is greater\")\n",
    "else:\n",
    "    print(\"a is greater\")"
   ]
  },
  {
   "cell_type": "markdown",
   "id": "aa1a8103",
   "metadata": {},
   "source": [
    "### 155. Write a program to check if year is a leap year or not (Nested If)."
   ]
  },
  {
   "cell_type": "code",
   "execution_count": null,
   "id": "933956ee",
   "metadata": {},
   "outputs": [],
   "source": [
    "year = int(input(\"Enter Year.: \"))\n",
    "if(year % 4 == 0) or (year%400 == 0 and y%100 != 0):\n",
    "    print(\"Leap Year\")\n",
    "else:\n",
    "    print(\"Not a Leap Year\")"
   ]
  },
  {
   "cell_type": "markdown",
   "id": "64830d7e",
   "metadata": {},
   "source": [
    "### 156. Write a program to find sum of first N natural numbers given by user."
   ]
  },
  {
   "cell_type": "code",
   "execution_count": null,
   "id": "4639a891",
   "metadata": {},
   "outputs": [],
   "source": [
    "a = int(input(\"enter no.: \"))\n",
    "sum = 0\n",
    "i = 0\n",
    "while(i <= a):\n",
    "    sum = sum + i\n",
    "    i+=1\n",
    "print(\"Sum is :\",sum)"
   ]
  },
  {
   "cell_type": "markdown",
   "id": "ec75772f",
   "metadata": {},
   "source": [
    "### 157. Write a program to find average of first N natural numbers given by user."
   ]
  },
  {
   "cell_type": "code",
   "execution_count": null,
   "id": "20a5a648",
   "metadata": {},
   "outputs": [],
   "source": [
    "a = int(input(\"enter no.: \"))\n",
    "sum = 0\n",
    "i = 0\n",
    "while(i <= a):\n",
    "    sum = sum + i\n",
    "    i+=1\n",
    "print(\"Sum is :\",sum)\n",
    "print(\"Avg.is :\", sum/a)"
   ]
  },
  {
   "cell_type": "markdown",
   "id": "f541ec6e",
   "metadata": {},
   "source": [
    "### 158. Write a python program to read three numbers (a,b,c) and check how many numbers between ‘a’ and ‘b’ are divisible by ‘c’"
   ]
  },
  {
   "cell_type": "code",
   "execution_count": null,
   "id": "1f688a21",
   "metadata": {},
   "outputs": [],
   "source": [
    "a = int(input(\"Enter No.(starting point): \"))\n",
    "b = int(input(\"Enter No.(endind point): \"))\n",
    "c = int(input(\"Enter No.(divisible value): \"))\n",
    "for i in range(a+1, b+1):\n",
    "    if(i%c==0):\n",
    "        print(i,\"is divisible by\",c)"
   ]
  },
  {
   "cell_type": "markdown",
   "id": "25edc50a",
   "metadata": {},
   "source": [
    "### 159. Write a Python program that prints all the numbers from 0 to 6 except 3 and 6. "
   ]
  },
  {
   "cell_type": "code",
   "execution_count": null,
   "id": "1eae1118",
   "metadata": {},
   "outputs": [],
   "source": [
    "for number in range(7):  # Loop through numbers from 0 to 6\n",
    "    if number != 3 and number != 6:  # Check if the number is not 3 or 6\n",
    "        print(number)  # Print the number if it's not 3 or 6        \n",
    "# i = 0\n",
    "# while i<=10:\n",
    "#     if((i == 3) or (i == 6)):\n",
    "#         break\n",
    "#     else:\n",
    "#         continue\n",
    "#         print(i)\n",
    "#         i += 1"
   ]
  },
  {
   "cell_type": "markdown",
   "id": "09bd4f46",
   "metadata": {},
   "source": [
    "### 160. Write a Python program to print the multiplication table of given number by user."
   ]
  },
  {
   "cell_type": "code",
   "execution_count": null,
   "id": "6e6b4907",
   "metadata": {},
   "outputs": [],
   "source": [
    "n = int(input(\"Enter No.: \"))\n",
    "for i in range(1,11):\n",
    "    print(n,'*',i,'=',n*i)"
   ]
  },
  {
   "cell_type": "markdown",
   "id": "2c2555c3",
   "metadata": {},
   "source": [
    "### 161. Write a program to find the factorial of a number provided by the user."
   ]
  },
  {
   "cell_type": "code",
   "execution_count": null,
   "id": "b675b4ae",
   "metadata": {},
   "outputs": [],
   "source": [
    "n = int(input(\"Enter No.: \"))\n",
    "f = 1\n",
    "for i in range(2,n+1):\n",
    "    f *= i\n",
    "print(\"fact is\",f)"
   ]
  },
  {
   "cell_type": "markdown",
   "id": "2302d8c7",
   "metadata": {},
   "source": [
    "### 162. Write a python program to display the Fibonacci sequence up to n-th term."
   ]
  },
  {
   "cell_type": "code",
   "execution_count": null,
   "id": "436cb51b",
   "metadata": {},
   "outputs": [],
   "source": [
    "n = int(input(\"Enter No.: \"))\n",
    "a,b = 0,1\n",
    "c = 0\n",
    "while(c<n):\n",
    "    print(a,end=\" \")\n",
    "    nth = a + b\n",
    "    a = b\n",
    "    b = nth\n",
    "    c += 1\n",
    "# end -> don't print in new line"
   ]
  },
  {
   "cell_type": "markdown",
   "id": "8e76e797",
   "metadata": {},
   "source": [
    "### 163. Write a program to take 10 values from keyboard using loop and print their average on the screen"
   ]
  },
  {
   "cell_type": "code",
   "execution_count": null,
   "id": "c2e63399",
   "metadata": {},
   "outputs": [],
   "source": [
    "sum = 0\n",
    "a = 0\n",
    "for i in range(10):\n",
    "    a = int(input(\"enter no.\"))\n",
    "    sum += a\n",
    "print(\"Sum is :\", sum)\n",
    "print(\"Avg. is :\", sum/10)"
   ]
  },
  {
   "cell_type": "markdown",
   "id": "5225e665",
   "metadata": {},
   "source": [
    "### 164. Write a program to reverse a number."
   ]
  },
  {
   "cell_type": "code",
   "execution_count": null,
   "id": "7e7b845a",
   "metadata": {},
   "outputs": [],
   "source": [
    "n = int(input(\"Enter No.: \"))\n",
    "rev = 0\n",
    "while n>0:\n",
    "    r = n % 10\n",
    "    rev = (rev*10) + r\n",
    "    n = n // 10\n",
    "print(\"Reverse :\", rev)"
   ]
  },
  {
   "cell_type": "markdown",
   "id": "8dd62cf3",
   "metadata": {},
   "source": [
    "### 165. Write a program to check whether a number is Armstrong number or not"
   ]
  },
  {
   "cell_type": "code",
   "execution_count": null,
   "id": "7b4a704e",
   "metadata": {},
   "outputs": [],
   "source": [
    "num = int(input(\"Enter a number: \"))\n",
    "l = len(str(num))\n",
    "sum = 0\n",
    "temp = num\n",
    "\n",
    "while temp > 0:\n",
    "   digit = temp % 10\n",
    "   sum += digit ** l\n",
    "   temp //= 10\n",
    "\n",
    "if num == sum:\n",
    "   print(num,\"is an Armstrong number\")\n",
    "else:\n",
    "   print(num,\"is not an Armstrong number\")"
   ]
  },
  {
   "cell_type": "markdown",
   "id": "baeaf19f",
   "metadata": {},
   "source": [
    "### 166. Write a program to check if a number is prime or not."
   ]
  },
  {
   "cell_type": "code",
   "execution_count": null,
   "id": "2a380f1b",
   "metadata": {},
   "outputs": [],
   "source": [
    "# num = int(input(\"Enter the desired number: \"))\n",
    "\n",
    "# flag = False\n",
    "\n",
    "# if num > 1:\n",
    "#     for i in range(2, num):\n",
    "#         if (num % i) == 0:\n",
    "#             flag = True\n",
    "#             break\n",
    "\n",
    "# if flag:\n",
    "#     print(\"The number entered is not a prime number\")\n",
    "# else:\n",
    "#     print(\"The number entered is a prime number\")\n",
    "\n",
    "# one more option take count var.\n",
    "num = int(input(\"Enter the desired number: \"))\n",
    "count = 0\n",
    "if num > 1:\n",
    "    for i in range(2, num):\n",
    "        if (num % i) == 0:\n",
    "            count += 1\n",
    "\n",
    "if(count == 0):\n",
    "    print(\"The number entered is a prime number\")\n",
    "else:\n",
    "    print(\"The number entered is not a prime number\")"
   ]
  },
  {
   "cell_type": "markdown",
   "id": "6e208464",
   "metadata": {},
   "source": [
    "### 167. Write a program to print prime numbers between given interval from user."
   ]
  },
  {
   "cell_type": "code",
   "execution_count": null,
   "id": "a6685a86",
   "metadata": {},
   "outputs": [],
   "source": []
  },
  {
   "cell_type": "markdown",
   "id": "3f4325a0",
   "metadata": {},
   "source": [
    "### 168. Draw a pattern using a python program: \n",
    "### *\n",
    "### * *\n",
    "### * * *\n",
    "### * * * *"
   ]
  },
  {
   "cell_type": "code",
   "execution_count": null,
   "id": "aa73b0b4",
   "metadata": {},
   "outputs": [],
   "source": [
    "i = 1\n",
    "while i<=4:\n",
    "    print(\"* \"*i)\n",
    "    i += 1\n",
    "# *\n",
    "# * *\n",
    "# * * *\n",
    "# * * * *"
   ]
  },
  {
   "cell_type": "markdown",
   "id": "f2da681f",
   "metadata": {},
   "source": [
    "### 169. Draw a pattern:"
   ]
  },
  {
   "cell_type": "code",
   "execution_count": 1,
   "id": "1021a8e9",
   "metadata": {},
   "outputs": [
    {
     "name": "stdout",
     "output_type": "stream",
     "text": [
      " *****\n",
      "  ****\n",
      "   ***\n",
      "    **\n",
      "     *\n"
     ]
    }
   ],
   "source": [
    "for i in range(5,0,-1):\n",
    "    print(\" \"*(5-i),'*'*i)\n",
    "\n",
    "\n",
    "#  *****\n",
    "#   ****\n",
    "#    ***\n",
    "#     **\n",
    "#      *"
   ]
  },
  {
   "cell_type": "markdown",
   "id": "1f0a375e",
   "metadata": {},
   "source": [
    "### 170."
   ]
  },
  {
   "cell_type": "code",
   "execution_count": 5,
   "id": "8729f1a5",
   "metadata": {},
   "outputs": [
    {
     "name": "stdout",
     "output_type": "stream",
     "text": [
      "     * \n",
      "    * * \n",
      "   * * * \n",
      "  * * * * \n"
     ]
    }
   ],
   "source": [
    "for i in range(1,5):\n",
    "    print(\" \"*(5-i),('*'+' ')*i)\n",
    "\n",
    "#      * \n",
    "#     * * \n",
    "#    * * * \n",
    "#   * * * * \n",
    "\n",
    "# for i in range(5,0,-1):\n",
    "#     print(\" \"*(5-i),('*'+' ')*i)\n",
    "    \n",
    "#  * * * * * \n",
    "#   * * * * \n",
    "#    * * * \n",
    "#     * * \n",
    "#      * "
   ]
  },
  {
   "cell_type": "markdown",
   "id": "8ac210cb",
   "metadata": {},
   "source": [
    "### 171."
   ]
  },
  {
   "cell_type": "code",
   "execution_count": 7,
   "id": "60c67817",
   "metadata": {},
   "outputs": [
    {
     "name": "stdout",
     "output_type": "stream",
     "text": [
      "*****\n",
      "****\n",
      "***\n",
      "**\n",
      "*\n"
     ]
    }
   ],
   "source": [
    "for i in range(5,0,-1):\n",
    "    print('*'*i)\n",
    "# *****\n",
    "# ****\n",
    "# ***\n",
    "# **\n",
    "# *"
   ]
  },
  {
   "cell_type": "markdown",
   "id": "2b27a49c",
   "metadata": {},
   "source": [
    "### 172."
   ]
  },
  {
   "cell_type": "code",
   "execution_count": 13,
   "id": "1ea26ece",
   "metadata": {},
   "outputs": [
    {
     "name": "stdout",
     "output_type": "stream",
     "text": [
      "1 2 3 4 5 \n",
      "1 2 3 4 \n",
      "1 2 3 \n",
      "1 2 \n",
      "1 \n"
     ]
    }
   ],
   "source": [
    "for i in range(5,0,-1):\n",
    "    for j in range(1, i+1):\n",
    "        print(j,end=\" \")\n",
    "    print()\n",
    "    \n",
    "# 1 2 3 4 5 \n",
    "# 1 2 3 4 \n",
    "# 1 2 3 \n",
    "# 1 2 \n",
    "# 1 "
   ]
  },
  {
   "cell_type": "markdown",
   "id": "ac99d8f1",
   "metadata": {},
   "source": [
    "### 173."
   ]
  },
  {
   "cell_type": "code",
   "execution_count": 15,
   "id": "3da5443f",
   "metadata": {},
   "outputs": [
    {
     "name": "stdout",
     "output_type": "stream",
     "text": [
      "1 \n",
      "1 2 \n",
      "1 2 3 \n",
      "1 2 3 4 \n"
     ]
    }
   ],
   "source": [
    "for i in range(1,5,1):\n",
    "    for j in range(1, i+1):\n",
    "        print(j,end=\" \")\n",
    "    print()\n",
    "# 1 \n",
    "# 1 2 \n",
    "# 1 2 3 \n",
    "# 1 2 3 4 "
   ]
  },
  {
   "cell_type": "markdown",
   "id": "84f8c7df",
   "metadata": {},
   "source": [
    "### 174."
   ]
  },
  {
   "cell_type": "code",
   "execution_count": 17,
   "id": "72a70f13",
   "metadata": {},
   "outputs": [
    {
     "name": "stdout",
     "output_type": "stream",
     "text": [
      "\n",
      "1\n",
      "22\n",
      "333\n",
      "4444\n"
     ]
    }
   ],
   "source": [
    "for i in range(0,5):\n",
    "    print(i*str(i))\n",
    "\n",
    "# 1\n",
    "# 22\n",
    "# 333\n",
    "# 4444"
   ]
  },
  {
   "cell_type": "markdown",
   "id": "97b18f50",
   "metadata": {},
   "source": [
    "### 175."
   ]
  },
  {
   "cell_type": "code",
   "execution_count": 18,
   "id": "09ff563f",
   "metadata": {},
   "outputs": [
    {
     "name": "stdout",
     "output_type": "stream",
     "text": [
      "*\n",
      "##\n",
      "***\n",
      "####\n"
     ]
    }
   ],
   "source": [
    "for i in range(1,5):\n",
    "    if(i%2==0):\n",
    "        print('#'*i)\n",
    "    else:\n",
    "        print('*'*i)\n",
    "\n",
    "# *\n",
    "# ##\n",
    "# ***\n",
    "# ####"
   ]
  },
  {
   "cell_type": "markdown",
   "id": "d9142f4d",
   "metadata": {},
   "source": [
    "### 176."
   ]
  },
  {
   "cell_type": "code",
   "execution_count": null,
   "id": "8142c9fa",
   "metadata": {},
   "outputs": [],
   "source": []
  },
  {
   "cell_type": "markdown",
   "id": "10eddc27",
   "metadata": {},
   "source": [
    "### 177."
   ]
  },
  {
   "cell_type": "code",
   "execution_count": 20,
   "id": "e58398f8",
   "metadata": {},
   "outputs": [
    {
     "name": "stdout",
     "output_type": "stream",
     "text": [
      "    1 \n",
      "   1 2 \n",
      "  1 2 3 \n",
      " 1 2 3 4 \n"
     ]
    }
   ],
   "source": [
    "for i in range(1,5):\n",
    "    print(\" \"*(4-i),end=\" \")\n",
    "    for j in range(1, i+1):\n",
    "        print(j, end=\" \")\n",
    "    print()\n",
    "\n",
    "#     1 \n",
    "#    1 2 \n",
    "#   1 2 3 \n",
    "#  1 2 3 4"
   ]
  },
  {
   "cell_type": "code",
   "execution_count": null,
   "id": "1e05fcb3",
   "metadata": {},
   "outputs": [],
   "source": []
  }
 ],
 "metadata": {
  "kernelspec": {
   "display_name": "Python 3 (ipykernel)",
   "language": "python",
   "name": "python3"
  },
  "language_info": {
   "codemirror_mode": {
    "name": "ipython",
    "version": 3
   },
   "file_extension": ".py",
   "mimetype": "text/x-python",
   "name": "python",
   "nbconvert_exporter": "python",
   "pygments_lexer": "ipython3",
   "version": "3.8.5"
  }
 },
 "nbformat": 4,
 "nbformat_minor": 5
}

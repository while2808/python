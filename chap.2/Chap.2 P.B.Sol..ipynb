{
 "cells": [
  {
   "cell_type": "markdown",
   "id": "1f9a9c26",
   "metadata": {},
   "source": [
    "# Chap.2 P.B. Sol."
   ]
  },
  {
   "cell_type": "markdown",
   "id": "b7b0223c",
   "metadata": {},
   "source": [
    "### 152. Write a program to determine a given number is ‘odd’ or ‘even’ and print the following message “Number is ODD” or “Number is Even”. "
   ]
  },
  {
   "cell_type": "code",
   "execution_count": null,
   "id": "f9272a03",
   "metadata": {},
   "outputs": [],
   "source": [
    "a = int(input(\"enter no.: \"))\n",
    "if(a%2==0):\n",
    "    print(\"Number is Even\")\n",
    "else:\n",
    "    print(\"Number is ODD\")"
   ]
  },
  {
   "cell_type": "markdown",
   "id": "0cd07e53",
   "metadata": {},
   "source": [
    "### 153. Write a program to check if the input number is positive, negative or zero."
   ]
  },
  {
   "cell_type": "code",
   "execution_count": null,
   "id": "2b805539",
   "metadata": {},
   "outputs": [],
   "source": [
    "a = int(input(\"enter no.: \"))\n",
    "if(a > 0):\n",
    "    print(\"+ve\")\n",
    "elif(a<0):\n",
    "    print(\"-ve\")\n",
    "else:\n",
    "    print(\"Zero!!\")"
   ]
  },
  {
   "cell_type": "markdown",
   "id": "a9bdb593",
   "metadata": {},
   "source": [
    "### 154. Write a program to find the maximum number among the three input numbers."
   ]
  },
  {
   "cell_type": "code",
   "execution_count": null,
   "id": "c297404b",
   "metadata": {},
   "outputs": [],
   "source": [
    "a = int(input(\"Enter Value : \"))\n",
    "b = int(input(\"Enter Value : \"))\n",
    "c = int(input(\"Enter Value : \"))\n",
    "if(a < b):\n",
    "    if(c < b):\n",
    "        print(\"b is greater\")\n",
    "    else:\n",
    "        print(\"c is greater\")\n",
    "elif(b < c):\n",
    "    if(c < a):\n",
    "        print(\"a is greater\")\n",
    "    else:\n",
    "        print(\"c is greater\")\n",
    "else:\n",
    "    print(\"a is greater\")"
   ]
  },
  {
   "cell_type": "markdown",
   "id": "25ffac05",
   "metadata": {},
   "source": [
    "### 155. Write a program to check if year is a leap year or not (Nested If)."
   ]
  },
  {
   "cell_type": "code",
   "execution_count": null,
   "id": "40810bbf",
   "metadata": {},
   "outputs": [],
   "source": [
    "year = int(input(\"Enter Year.: \"))\n",
    "if(year % 4 == 0) or (year%400 == 0 and y%100 != 0):\n",
    "    print(\"Leap Year\")\n",
    "else:\n",
    "    print(\"Not a Leap Year\")"
   ]
  },
  {
   "cell_type": "markdown",
   "id": "f52f0737",
   "metadata": {},
   "source": [
    "### 156. Write a program to find sum of first N natural numbers given by user."
   ]
  },
  {
   "cell_type": "code",
   "execution_count": null,
   "id": "32d20981",
   "metadata": {},
   "outputs": [],
   "source": [
    "a = int(input(\"enter no.: \"))\n",
    "sum = 0\n",
    "i = 0\n",
    "while(i <= a):\n",
    "    sum = sum + i\n",
    "    i+=1\n",
    "print(\"Sum is :\",sum)"
   ]
  },
  {
   "cell_type": "markdown",
   "id": "ad2ba568",
   "metadata": {},
   "source": [
    "### 157. Write a program to find average of first N natural numbers given by user."
   ]
  },
  {
   "cell_type": "code",
   "execution_count": null,
   "id": "fc7eafa1",
   "metadata": {},
   "outputs": [],
   "source": [
    "a = int(input(\"enter no.: \"))\n",
    "sum = 0\n",
    "i = 0\n",
    "while(i <= a):\n",
    "    sum = sum + i\n",
    "    i+=1\n",
    "print(\"Sum is :\",sum)\n",
    "print(\"Avg.is :\", sum/a)"
   ]
  },
  {
   "cell_type": "markdown",
   "id": "2f28a0d2",
   "metadata": {},
   "source": [
    "### 158. Write a python program to read three numbers (a,b,c) and check how many numbers between ‘a’ and ‘b’ are divisible by ‘c’"
   ]
  },
  {
   "cell_type": "code",
   "execution_count": null,
   "id": "224d7e90",
   "metadata": {},
   "outputs": [],
   "source": [
    "a = int(input(\"Enter No.(starting point): \"))\n",
    "b = int(input(\"Enter No.(endind point): \"))\n",
    "c = int(input(\"Enter No.(divisible value): \"))\n",
    "for i in range(a+1, b+1):\n",
    "    if(i%c==0):\n",
    "        print(i,\"is divisible by\",c)"
   ]
  },
  {
   "cell_type": "markdown",
   "id": "96bf0802",
   "metadata": {},
   "source": [
    "### 159. Write a Python program that prints all the numbers from 0 to 6 except 3 and 6. "
   ]
  },
  {
   "cell_type": "code",
   "execution_count": null,
   "id": "54ec13f5",
   "metadata": {},
   "outputs": [],
   "source": [
    "for number in range(7):  # Loop through numbers from 0 to 6\n",
    "    if number != 3 and number != 6:  # Check if the number is not 3 or 6\n",
    "        print(number)  # Print the number if it's not 3 or 6        \n",
    "# i = 0\n",
    "# while i<=10:\n",
    "#     if((i == 3) or (i == 6)):\n",
    "#         break\n",
    "#     else:\n",
    "#         continue\n",
    "#         print(i)\n",
    "#         i += 1"
   ]
  },
  {
   "cell_type": "markdown",
   "id": "bd7fbace",
   "metadata": {},
   "source": [
    "### 160. Write a Python program to print the multiplication table of given number by user."
   ]
  },
  {
   "cell_type": "code",
   "execution_count": null,
   "id": "fc70dbf9",
   "metadata": {},
   "outputs": [],
   "source": [
    "n = int(input(\"Enter No.: \"))\n",
    "for i in range(1,11):\n",
    "    print(n,'*',i,'=',n*i)"
   ]
  },
  {
   "cell_type": "markdown",
   "id": "92ee0915",
   "metadata": {},
   "source": [
    "### 161. Write a program to find the factorial of a number provided by the user."
   ]
  },
  {
   "cell_type": "code",
   "execution_count": null,
   "id": "42ecea1d",
   "metadata": {},
   "outputs": [],
   "source": [
    "n = int(input(\"Enter No.: \"))\n",
    "f = 1\n",
    "for i in range(2,n+1):\n",
    "    f *= i\n",
    "print(\"fact is\",f)"
   ]
  },
  {
   "cell_type": "markdown",
   "id": "b76fb062",
   "metadata": {},
   "source": [
    "### 162. Write a python program to display the Fibonacci sequence up to n-th term."
   ]
  },
  {
   "cell_type": "code",
   "execution_count": null,
   "id": "156d9e4b",
   "metadata": {},
   "outputs": [],
   "source": [
    "n = int(input(\"Enter No.: \"))\n",
    "a,b = 0,1\n",
    "c = 0\n",
    "while(c<n):\n",
    "    print(a,end=\" \")\n",
    "    nth = a + b\n",
    "    a = b\n",
    "    b = nth\n",
    "    c += 1\n",
    "# end -> don't print in new line"
   ]
  },
  {
   "cell_type": "markdown",
   "id": "3ac71a2d",
   "metadata": {},
   "source": [
    "### 163. Write a program to take 10 values from keyboard using loop and print their average on the screen"
   ]
  },
  {
   "cell_type": "code",
   "execution_count": null,
   "id": "b7587897",
   "metadata": {},
   "outputs": [],
   "source": [
    "sum = 0\n",
    "a = 0\n",
    "for i in range(10):\n",
    "    a = int(input(\"enter no.\"))\n",
    "    sum += a\n",
    "print(\"Sum is :\", sum)\n",
    "print(\"Avg. is :\", sum/10)"
   ]
  },
  {
   "cell_type": "markdown",
   "id": "ac7eb73c",
   "metadata": {},
   "source": [
    "### 164. Write a program to reverse a number."
   ]
  },
  {
   "cell_type": "code",
   "execution_count": null,
   "id": "d8373e2e",
   "metadata": {},
   "outputs": [],
   "source": [
    "n = int(input(\"Enter No.: \"))\n",
    "rev = 0\n",
    "while n>0:\n",
    "    r = n % 10\n",
    "    rev = (rev*10) + r\n",
    "    n = n // 10\n",
    "print(\"Reverse :\", rev)"
   ]
  },
  {
   "cell_type": "markdown",
   "id": "6c18e410",
   "metadata": {},
   "source": [
    "### 165. Write a program to check whether a number is Armstrong number or not"
   ]
  },
  {
   "cell_type": "code",
   "execution_count": null,
   "id": "b06a792b",
   "metadata": {},
   "outputs": [],
   "source": [
    "num = int(input(\"Enter a number: \"))\n",
    "l = len(str(num))\n",
    "sum = 0\n",
    "temp = num\n",
    "\n",
    "while temp > 0:\n",
    "   digit = temp % 10\n",
    "   sum += digit ** l\n",
    "   temp //= 10\n",
    "\n",
    "if num == sum:\n",
    "   print(num,\"is an Armstrong number\")\n",
    "else:\n",
    "   print(num,\"is not an Armstrong number\")"
   ]
  },
  {
   "cell_type": "markdown",
   "id": "a3c09af9",
   "metadata": {},
   "source": [
    "### 166. Write a program to check if a number is prime or not."
   ]
  },
  {
   "cell_type": "code",
   "execution_count": null,
   "id": "8468df78",
   "metadata": {},
   "outputs": [],
   "source": [
    "# num = int(input(\"Enter the desired number: \"))\n",
    "\n",
    "# flag = False\n",
    "\n",
    "# if num > 1:\n",
    "#     for i in range(2, num):\n",
    "#         if (num % i) == 0:\n",
    "#             flag = True\n",
    "#             break\n",
    "\n",
    "# if flag:\n",
    "#     print(\"The number entered is not a prime number\")\n",
    "# else:\n",
    "#     print(\"The number entered is a prime number\")\n",
    "\n",
    "# one more option take count var.\n",
    "num = int(input(\"Enter the desired number: \"))\n",
    "count = 0\n",
    "if num > 1:\n",
    "    for i in range(2, num):\n",
    "        if (num % i) == 0:\n",
    "            count += 1\n",
    "\n",
    "if(count == 0):\n",
    "    print(\"The number entered is a prime number\")\n",
    "else:\n",
    "    print(\"The number entered is not a prime number\")"
   ]
  },
  {
   "cell_type": "markdown",
   "id": "4feff1c8",
   "metadata": {},
   "source": [
    "### 167. Write a program to print prime numbers between given interval from user."
   ]
  },
  {
   "cell_type": "code",
   "execution_count": null,
   "id": "34865dee",
   "metadata": {},
   "outputs": [],
   "source": []
  },
  {
   "cell_type": "markdown",
   "id": "3580116d",
   "metadata": {},
   "source": [
    "### 168. Draw a pattern using a python program: \n",
    "### *\n",
    "### * *\n",
    "### * * *\n",
    "### * * * *"
   ]
  },
  {
   "cell_type": "code",
   "execution_count": null,
   "id": "d2c4934f",
   "metadata": {},
   "outputs": [],
   "source": [
    "i = 1\n",
    "while i<=4:\n",
    "    print(\"* \"*i)\n",
    "    i += 1\n",
    "# *\n",
    "# * *\n",
    "# * * *\n",
    "# * * * *"
   ]
  },
  {
   "cell_type": "markdown",
   "id": "19a56d8f",
   "metadata": {},
   "source": [
    "### 169. Draw a pattern:"
   ]
  },
  {
   "cell_type": "code",
   "execution_count": null,
   "id": "62332cb7",
   "metadata": {},
   "outputs": [],
   "source": [
    "for i in range(5,0,-1):\n",
    "    print(\" \"*(5-i),'*'*i)\n",
    "\n",
    "\n",
    "#  *****\n",
    "#   ****\n",
    "#    ***\n",
    "#     **\n",
    "#      *"
   ]
  },
  {
   "cell_type": "markdown",
   "id": "65ee2937",
   "metadata": {},
   "source": [
    "### 170."
   ]
  },
  {
   "cell_type": "code",
   "execution_count": null,
   "id": "33aadcf6",
   "metadata": {},
   "outputs": [],
   "source": [
    "for i in range(1,5):\n",
    "    print(\" \"*(5-i),('*'+' ')*i)\n",
    "\n",
    "#      * \n",
    "#     * * \n",
    "#    * * * \n",
    "#   * * * * \n",
    "\n",
    "# for i in range(5,0,-1):\n",
    "#     print(\" \"*(5-i),('*'+' ')*i)\n",
    "    \n",
    "#  * * * * * \n",
    "#   * * * * \n",
    "#    * * * \n",
    "#     * * \n",
    "#      * "
   ]
  },
  {
   "cell_type": "markdown",
   "id": "0e4db05f",
   "metadata": {},
   "source": [
    "### 171."
   ]
  },
  {
   "cell_type": "code",
   "execution_count": null,
   "id": "3e51181c",
   "metadata": {},
   "outputs": [],
   "source": [
    "for i in range(5,0,-1):\n",
    "    print('*'*i)\n",
    "# *****\n",
    "# ****\n",
    "# ***\n",
    "# **\n",
    "# *"
   ]
  },
  {
   "cell_type": "markdown",
   "id": "8718999a",
   "metadata": {},
   "source": [
    "### 172."
   ]
  },
  {
   "cell_type": "code",
   "execution_count": null,
   "id": "66295d82",
   "metadata": {},
   "outputs": [],
   "source": [
    "for i in range(5,0,-1):\n",
    "    for j in range(1, i+1):\n",
    "        print(j,end=\" \")\n",
    "    print()\n",
    "    \n",
    "# 1 2 3 4 5 \n",
    "# 1 2 3 4 \n",
    "# 1 2 3 \n",
    "# 1 2 \n",
    "# 1 "
   ]
  },
  {
   "cell_type": "markdown",
   "id": "221e478d",
   "metadata": {},
   "source": [
    "### 173."
   ]
  },
  {
   "cell_type": "code",
   "execution_count": null,
   "id": "a135036a",
   "metadata": {},
   "outputs": [],
   "source": [
    "for i in range(1,5,1):\n",
    "    for j in range(1, i+1):\n",
    "        print(j,end=\" \")\n",
    "    print()\n",
    "# 1 \n",
    "# 1 2 \n",
    "# 1 2 3 \n",
    "# 1 2 3 4 "
   ]
  },
  {
   "cell_type": "markdown",
   "id": "1330950b",
   "metadata": {},
   "source": [
    "### 174."
   ]
  },
  {
   "cell_type": "code",
   "execution_count": null,
   "id": "7e9267a2",
   "metadata": {},
   "outputs": [],
   "source": [
    "for i in range(0,5):\n",
    "    print(i*str(i))\n",
    "\n",
    "# 1\n",
    "# 22\n",
    "# 333\n",
    "# 4444"
   ]
  },
  {
   "cell_type": "markdown",
   "id": "2f1c99dc",
   "metadata": {},
   "source": [
    "### 175."
   ]
  },
  {
   "cell_type": "code",
   "execution_count": null,
   "id": "eb907bd1",
   "metadata": {},
   "outputs": [],
   "source": [
    "for i in range(1,5):\n",
    "    if(i%2==0):\n",
    "        print('#'*i)\n",
    "    else:\n",
    "        print('*'*i)\n",
    "\n",
    "# *\n",
    "# ##\n",
    "# ***\n",
    "# ####"
   ]
  },
  {
   "cell_type": "markdown",
   "id": "82472605",
   "metadata": {},
   "source": [
    "### 176."
   ]
  },
  {
   "cell_type": "code",
   "execution_count": null,
   "id": "f2c8876d",
   "metadata": {},
   "outputs": [],
   "source": []
  },
  {
   "cell_type": "markdown",
   "id": "47653437",
   "metadata": {},
   "source": [
    "### 177."
   ]
  },
  {
   "cell_type": "code",
   "execution_count": null,
   "id": "771720a1",
   "metadata": {},
   "outputs": [],
   "source": [
    "for i in range(1,5):\n",
    "    print(\" \"*(4-i),end=\" \")\n",
    "    for j in range(1, i+1):\n",
    "        print(j, end=\" \")\n",
    "    print()\n",
    "\n",
    "#     1 \n",
    "#    1 2 \n",
    "#   1 2 3 \n",
    "#  1 2 3 4"
   ]
  },
  {
   "cell_type": "markdown",
   "id": "f17ec866",
   "metadata": {},
   "source": [
    "### 181. Write a python program to print all numbers between 1 and 100 (including 1 and 100) that are both, Disarium and Harshad numbers.\n",
    "### A number is said to be a Disarium number when the sum of its digit raised to the power of their respective positions \n",
    "### becomes equal to the number itself.\n",
    "### For example, 175 is a Disarium number as follows:\n",
    "### 11+ 72 + 53 = 1+ 49 + 125 = 175\n",
    "### A harshad number is a number that is divisible by the sum of its digits. E.g., the number 18 is a harshad number, because \n",
    "### the sum of the digits 1 and 8 is 9 (1 + 8 = 9), and 18 is divisible by 9. \n",
    "### Grading scheme:\n",
    "### 2 marks for writing correct code for checking Disarium number\n",
    "### 2 marks for writing correct code for checking Harshad number\n",
    "### 1 mark for writing correct code for only printing those numbers that are both, Disarium and Harshad numbers."
   ]
  },
  {
   "cell_type": "code",
   "execution_count": null,
   "id": "38420a01",
   "metadata": {},
   "outputs": [],
   "source": [
    "# num = int(input(\"Enter No.: \"))\n",
    "# l = len(str(num))\n",
    "# sum = 0\n",
    "# temp = num\n",
    "# r = l\n",
    "\n",
    "# while temp > 0:\n",
    "#    digit = temp % 10\n",
    "#    sum = sum + digit ** r\n",
    "#    temp //= 10\n",
    "#    r -= 1\n",
    "# print(sum)\n",
    "\n",
    "for num in range(1,1001):\n",
    "    hrsd = 0\n",
    "    l = len(str(num))\n",
    "    sum = 0\n",
    "    temp = num\n",
    "    r = l\n",
    "    while temp > 0:\n",
    "        digit = temp % 10\n",
    "        sum = sum + digit ** r\n",
    "        hrsd = hrsd + digit\n",
    "        temp //= 10\n",
    "        r -= 1\n",
    "    if(sum==num)and(num%hrsd==0):\n",
    "        print(num) \n",
    "'''Ans. is:\n",
    "1\n",
    "2\n",
    "3\n",
    "4\n",
    "5\n",
    "6\n",
    "7\n",
    "8\n",
    "9\n",
    "135\n",
    "518\n",
    "'''\n",
    "# Diasarium No.\n",
    "# 1\n",
    "# 2\n",
    "# 3\n",
    "# 4\n",
    "# 5\n",
    "# 6\n",
    "# 7\n",
    "# 8\n",
    "# 9\n",
    "# 89\n",
    "# 135\n",
    "# 175\n",
    "# 518\n",
    "# 598"
   ]
  },
  {
   "cell_type": "markdown",
   "id": "4833a5d1",
   "metadata": {},
   "source": [
    "### 182. Ask the user to enter 10 test scores. Write a program to do the following:\n",
    "### a)\tIf user enters score greater than 100, then give warning to user that entered score is more than 100 and take that \n",
    "### input again from user. b)\tPrint out the highest and lowest scores.\n",
    "### c)\tPrint out the average of the scores. d)\tPrint out the second largest score.\n",
    "### e)\tDrop the two lowest scores and print out the average of the rest of them.\n",
    "### Note: Use of Python Data structures like string, list, tuple etc. and their inbuilt function is not allowed.\n",
    "### For Ex.\n",
    "### If Input is like following:\n",
    "### Enter Test Score: 80\n",
    "### Enter Test Score: 65\n",
    "### Enter Test Score: 98\n",
    "### Enter Test Score: 70\n",
    "### Enter Test Score: 93\n",
    "### Enter Test Score: 130\n",
    "### Entered score is more than hundred, so enter again\n",
    "### Enter Test Score: 95\n",
    "### Enter Test Score: 50\n",
    "### Enter Test Score: 40\n",
    "### Enter Test Score: 75\n",
    "### Enter Test Score: 72\n",
    "### Output should be:\n",
    "### Highest Score is: 98\n",
    "### Lowest Score is: 40\n",
    "### Average Test Score is: 73.8\n",
    "### Second Largest Score is: 95\n",
    "### Average after dropping the two lowest scores: 81.0"
   ]
  },
  {
   "cell_type": "code",
   "execution_count": 3,
   "id": "21e3cb87",
   "metadata": {},
   "outputs": [
    {
     "name": "stdout",
     "output_type": "stream",
     "text": [
      "Enter 1 Score : 80\n",
      "Enter 2 Score : 65\n",
      "Enter 3 Score : 98\n",
      "Enter 4 Score : 70\n",
      "Enter 5 Score : 93\n",
      "Enter 6 Score : 95\n",
      "Enter 7 Score : 50\n",
      "Enter 8 Score : 40\n",
      "Enter 9 Score : 75\n",
      "Enter 10 Score : 72\n",
      "Highest Score is: 98\n",
      "Lowest Score is: 40\n",
      "Second Largest Score is: 95\n",
      "Average Test Score is: 73.8\n",
      "Average after dropping the two lowest scores: 81.0\n"
     ]
    }
   ],
   "source": [
    "s = 0\n",
    "f_max = 0\n",
    "f_min = 100\n",
    "c = 1\n",
    "while(c <= 10):\n",
    "    num = int(input(f\"Enter {c} Score : \"))\n",
    "    if(num>100):\n",
    "        print(\"Entered score is more than hundred, so enter again\")\n",
    "        continue\n",
    "    c += 1\n",
    "    s += num\n",
    "    if(num>f_max):\n",
    "        s_max = f_max\n",
    "        f_max = num\n",
    "    elif(num>s_max):\n",
    "        s_max = num\n",
    "    \n",
    "    if(num<f_min):\n",
    "        s_min = f_min\n",
    "        f_min = num\n",
    "    elif(num<s_min):\n",
    "        s_min = num\n",
    "    drop = s - f_min - s_min\n",
    "\n",
    "print(\"Highest Score is:\", f_max)\n",
    "print(\"Lowest Score is:\", f_min)\n",
    "print(\"Second Largest Score is:\", s_max)\n",
    "print(\"Average Test Score is:\", s/10)\n",
    "print(\"Average after dropping the two lowest scores:\", drop/8)"
   ]
  },
  {
   "cell_type": "markdown",
   "id": "57be2a51",
   "metadata": {},
   "source": [
    "### 183. Write a program to encode a number by changing the digits in the given positive integer by user. The rule for changing the \n",
    "### digits in number will be:\n",
    "### If the digit in number is between 0 to 8 than replace the number with 1 to 9 respectively. (incrementing each digit by +1).\n",
    "### If the digit is 9, then replace it with 0.\n",
    "### To encode a number, replace digits in following manner:\n",
    "### For example:\n",
    "### Input: 31590218\n",
    "### Output: The number after encoding is: 42601329\n",
    "### For example:\n",
    "### Input: 9259\n",
    "### Output: The number after encoding is: 360\n",
    "### For example:\n",
    "### Input: 65217001\n",
    "### Output: The number after encoding is: 76328112\n",
    "### Original Digit in Number \t New Digit after Encoding\n",
    "### 0\t 1\n",
    "### 1\t 2\n",
    "### 2\t 3\n",
    "### 3\t 4\n",
    "### 4\t 5\n",
    "### 5\t 6\n",
    "### 6\t 7\n",
    "### 7\t 8\n",
    "### 8\t 9\n",
    "### 9\t 0\n",
    "### Note: Use of Python Data structures like string, list, tuple etc. and their inbuilt function is not allowed."
   ]
  },
  {
   "cell_type": "code",
   "execution_count": null,
   "id": "6922eced",
   "metadata": {},
   "outputs": [],
   "source": [
    "input_number = int(input(\"Enter a positive integer: \"))\n",
    "\n",
    "encoded_number = 0\n",
    "place = 1  # To keep track of the current place (units, tens, etc.)\n",
    "\n",
    "while input_number > 0:\n",
    "    digit = input_number % 10  # Get the last digit\n",
    "    input_number = input_number // 10  # Remove the last digit\n",
    "\n",
    "    # Apply encoding rules\n",
    "    if digit == 9:\n",
    "        new_digit = 0\n",
    "    else:\n",
    "        new_digit = digit + 1\n",
    "\n",
    "    # Build the encoded number\n",
    "    encoded_number += new_digit * place\n",
    "    place *= 10  # Move to the next place\n",
    "\n",
    "# Output the result\n",
    "print(\"The number after encoding is:\", encoded_number)"
   ]
  },
  {
   "cell_type": "markdown",
   "id": "ebfc0899",
   "metadata": {},
   "source": [
    "### 184. Write a python program to swap first and last digits of a number using loop.\n",
    "### (for example: input = 123456 then output=623451) "
   ]
  },
  {
   "cell_type": "code",
   "execution_count": 5,
   "id": "e2a5a13b",
   "metadata": {},
   "outputs": [
    {
     "name": "stdout",
     "output_type": "stream",
     "text": [
      "Enter a No.: 123456\n",
      "623451\n"
     ]
    }
   ],
   "source": [
    "n = int(input(\"Enter a No.: \"))\n",
    "l = len(str(n))\n",
    "# temp = n\n",
    "# l = 0\n",
    "# while temp>0:\n",
    "#     temp//=10\n",
    "#     l += 1\n",
    "last = n%10\n",
    "first = n //(10**(l-1))\n",
    "mid = (n%(10**(l-1)))//10\n",
    "new = last * (10 **(l-1))+ (mid*10)+ first\n",
    "print(new)"
   ]
  },
  {
   "cell_type": "code",
   "execution_count": null,
   "id": "c1dcda33",
   "metadata": {},
   "outputs": [],
   "source": []
  }
 ],
 "metadata": {
  "kernelspec": {
   "display_name": "Python 3 (ipykernel)",
   "language": "python",
   "name": "python3"
  },
  "language_info": {
   "codemirror_mode": {
    "name": "ipython",
    "version": 3
   },
   "file_extension": ".py",
   "mimetype": "text/x-python",
   "name": "python",
   "nbconvert_exporter": "python",
   "pygments_lexer": "ipython3",
   "version": "3.8.5"
  }
 },
 "nbformat": 4,
 "nbformat_minor": 5
}

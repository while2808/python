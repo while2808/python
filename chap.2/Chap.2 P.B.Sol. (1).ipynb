{
 "cells": [
  {
   "cell_type": "markdown",
   "id": "3be14365",
   "metadata": {},
   "source": [
    "# Chap.2 P.B. Sol."
   ]
  },
  {
   "cell_type": "markdown",
   "id": "695c1ed9",
   "metadata": {},
   "source": [
    "### 152. Write a program to determine a given number is ‘odd’ or ‘even’ and print the following message “Number is ODD” or “Number is Even”. "
   ]
  },
  {
   "cell_type": "code",
   "execution_count": null,
   "id": "8f4754c8",
   "metadata": {},
   "outputs": [],
   "source": [
    "a = int(input(\"enter no.: \"))\n",
    "if(a%2==0):\n",
    "    print(\"Number is Even\")\n",
    "else:\n",
    "    print(\"Number is ODD\")"
   ]
  },
  {
   "cell_type": "markdown",
   "id": "45f8bb76",
   "metadata": {},
   "source": [
    "### 153. Write a program to check if the input number is positive, negative or zero."
   ]
  },
  {
   "cell_type": "code",
   "execution_count": null,
   "id": "eadab19a",
   "metadata": {},
   "outputs": [],
   "source": [
    "a = int(input(\"enter no.: \"))\n",
    "if(a > 0):\n",
    "    print(\"+ve\")\n",
    "elif(a<0):\n",
    "    print(\"-ve\")\n",
    "else:\n",
    "    print(\"Zero!!\")"
   ]
  },
  {
   "cell_type": "markdown",
   "id": "cbdf5577",
   "metadata": {},
   "source": [
    "### 154. Write a program to find the maximum number among the three input numbers."
   ]
  },
  {
   "cell_type": "code",
   "execution_count": null,
   "id": "60d2909c",
   "metadata": {},
   "outputs": [],
   "source": [
    "a = int(input(\"Enter Value : \"))\n",
    "b = int(input(\"Enter Value : \"))\n",
    "c = int(input(\"Enter Value : \"))\n",
    "if(a < b):\n",
    "    if(c < b):\n",
    "        print(\"b is greater\")\n",
    "    else:\n",
    "        print(\"c is greater\")\n",
    "elif(b < c):\n",
    "    if(c < a):\n",
    "        print(\"a is greater\")\n",
    "    else:\n",
    "        print(\"c is greater\")\n",
    "else:\n",
    "    print(\"a is greater\")"
   ]
  },
  {
   "cell_type": "markdown",
   "id": "f672b9c4",
   "metadata": {},
   "source": [
    "### 155. Write a program to check if year is a leap year or not (Nested If)."
   ]
  },
  {
   "cell_type": "code",
   "execution_count": null,
   "id": "755e7c7b",
   "metadata": {},
   "outputs": [],
   "source": [
    "year = int(input(\"Enter Year.: \"))\n",
    "if(year % 4 == 0) or (year%400 == 0 and y%100 != 0):\n",
    "    print(\"Leap Year\")\n",
    "else:\n",
    "    print(\"Not a Leap Year\")"
   ]
  },
  {
   "cell_type": "markdown",
   "id": "39bfae43",
   "metadata": {},
   "source": [
    "### 156. Write a program to find sum of first N natural numbers given by user."
   ]
  },
  {
   "cell_type": "code",
   "execution_count": null,
   "id": "4a5ef521",
   "metadata": {},
   "outputs": [],
   "source": [
    "a = int(input(\"enter no.: \"))\n",
    "sum = 0\n",
    "i = 0\n",
    "while(i <= a):\n",
    "    sum = sum + i\n",
    "    i+=1\n",
    "print(\"Sum is :\",sum)"
   ]
  },
  {
   "cell_type": "markdown",
   "id": "55971722",
   "metadata": {},
   "source": [
    "### 157. Write a program to find average of first N natural numbers given by user."
   ]
  },
  {
   "cell_type": "code",
   "execution_count": null,
   "id": "8cab3cfa",
   "metadata": {},
   "outputs": [],
   "source": [
    "a = int(input(\"enter no.: \"))\n",
    "sum = 0\n",
    "i = 0\n",
    "while(i <= a):\n",
    "    sum = sum + i\n",
    "    i+=1\n",
    "print(\"Sum is :\",sum)\n",
    "print(\"Avg.is :\", sum/a)"
   ]
  },
  {
   "cell_type": "markdown",
   "id": "45ac66a2",
   "metadata": {},
   "source": [
    "### 158. Write a python program to read three numbers (a,b,c) and check how many numbers between ‘a’ and ‘b’ are divisible by ‘c’"
   ]
  },
  {
   "cell_type": "code",
   "execution_count": null,
   "id": "6d602d94",
   "metadata": {},
   "outputs": [],
   "source": [
    "a = int(input(\"Enter No.(starting point): \"))\n",
    "b = int(input(\"Enter No.(endind point): \"))\n",
    "c = int(input(\"Enter No.(divisible value): \"))\n",
    "for i in range(a+1, b+1):\n",
    "    if(i%c==0):\n",
    "        print(i,\"is divisible by\",c)"
   ]
  },
  {
   "cell_type": "markdown",
   "id": "4c2dfe93",
   "metadata": {},
   "source": [
    "### 159. Write a Python program that prints all the numbers from 0 to 6 except 3 and 6. "
   ]
  },
  {
   "cell_type": "code",
   "execution_count": null,
   "id": "14ce76a4",
   "metadata": {},
   "outputs": [],
   "source": [
    "for number in range(7):  # Loop through numbers from 0 to 6\n",
    "    if number != 3 and number != 6:  # Check if the number is not 3 or 6\n",
    "        print(number)  # Print the number if it's not 3 or 6        \n",
    "# i = 0\n",
    "# while i<=10:\n",
    "#     if((i == 3) or (i == 6)):\n",
    "#         break\n",
    "#     else:\n",
    "#         continue\n",
    "#         print(i)\n",
    "#         i += 1"
   ]
  },
  {
   "cell_type": "markdown",
   "id": "8ce2b4bc",
   "metadata": {},
   "source": [
    "### 160. Write a Python program to print the multiplication table of given number by user."
   ]
  },
  {
   "cell_type": "code",
   "execution_count": null,
   "id": "80e2cf17",
   "metadata": {},
   "outputs": [],
   "source": [
    "n = int(input(\"Enter No.: \"))\n",
    "for i in range(1,11):\n",
    "    print(n,'*',i,'=',n*i)"
   ]
  },
  {
   "cell_type": "markdown",
   "id": "690cc0b5",
   "metadata": {},
   "source": [
    "### 161. Write a program to find the factorial of a number provided by the user."
   ]
  },
  {
   "cell_type": "code",
   "execution_count": null,
   "id": "392114a4",
   "metadata": {},
   "outputs": [],
   "source": [
    "n = int(input(\"Enter No.: \"))\n",
    "f = 1\n",
    "for i in range(2,n+1):\n",
    "    f *= i\n",
    "print(\"fact is\",f)"
   ]
  },
  {
   "cell_type": "markdown",
   "id": "1371cb69",
   "metadata": {},
   "source": [
    "### 162. Write a python program to display the Fibonacci sequence up to n-th term."
   ]
  },
  {
   "cell_type": "code",
   "execution_count": null,
   "id": "703cab5d",
   "metadata": {},
   "outputs": [],
   "source": [
    "n = int(input(\"Enter No.: \"))\n",
    "a,b = 0,1\n",
    "c = 0\n",
    "while(c<n):\n",
    "    print(a,end=\" \")\n",
    "    nth = a + b\n",
    "    a = b\n",
    "    b = nth\n",
    "    c += 1\n",
    "# end -> don't print in new line"
   ]
  },
  {
   "cell_type": "markdown",
   "id": "71a8fdb4",
   "metadata": {},
   "source": [
    "### 163. Write a program to take 10 values from keyboard using loop and print their average on the screen"
   ]
  },
  {
   "cell_type": "code",
   "execution_count": null,
   "id": "e9b6d528",
   "metadata": {},
   "outputs": [],
   "source": [
    "sum = 0\n",
    "a = 0\n",
    "for i in range(10):\n",
    "    a = int(input(\"enter no.\"))\n",
    "    sum += a\n",
    "print(\"Sum is :\", sum)\n",
    "print(\"Avg. is :\", sum/10)"
   ]
  },
  {
   "cell_type": "markdown",
   "id": "2c88ac2b",
   "metadata": {},
   "source": [
    "### 164. Write a program to reverse a number."
   ]
  },
  {
   "cell_type": "code",
   "execution_count": null,
   "id": "d44a3efa",
   "metadata": {},
   "outputs": [],
   "source": [
    "n = int(input(\"Enter No.: \"))\n",
    "rev = 0\n",
    "while n>0:\n",
    "    r = n % 10\n",
    "    rev = (rev*10) + r\n",
    "    n = n // 10\n",
    "print(\"Reverse :\", rev)"
   ]
  },
  {
   "cell_type": "markdown",
   "id": "2df2fcce",
   "metadata": {},
   "source": [
    "### 165. Write a program to check whether a number is Armstrong number or not"
   ]
  },
  {
   "cell_type": "code",
   "execution_count": null,
   "id": "5659d314",
   "metadata": {},
   "outputs": [],
   "source": [
    "num = int(input(\"Enter a number: \"))\n",
    "l = len(str(num))\n",
    "sum = 0\n",
    "temp = num\n",
    "\n",
    "while temp > 0:\n",
    "   digit = temp % 10\n",
    "   sum += digit ** l\n",
    "   temp //= 10\n",
    "\n",
    "if num == sum:\n",
    "   print(num,\"is an Armstrong number\")\n",
    "else:\n",
    "   print(num,\"is not an Armstrong number\")"
   ]
  },
  {
   "cell_type": "markdown",
   "id": "ba83bd43",
   "metadata": {},
   "source": [
    "### 166. Write a program to check if a number is prime or not."
   ]
  },
  {
   "cell_type": "code",
   "execution_count": null,
   "id": "265ab1ed",
   "metadata": {},
   "outputs": [],
   "source": [
    "# num = int(input(\"Enter the desired number: \"))\n",
    "\n",
    "# flag = False\n",
    "\n",
    "# if num > 1:\n",
    "#     for i in range(2, num):\n",
    "#         if (num % i) == 0:\n",
    "#             flag = True\n",
    "#             break\n",
    "\n",
    "# if flag:\n",
    "#     print(\"The number entered is not a prime number\")\n",
    "# else:\n",
    "#     print(\"The number entered is a prime number\")\n",
    "\n",
    "# one more option take count var.\n",
    "num = int(input(\"Enter the desired number: \"))\n",
    "count = 0\n",
    "if num > 1:\n",
    "    for i in range(2, num):\n",
    "        if (num % i) == 0:\n",
    "            count += 1\n",
    "\n",
    "if(count == 0):\n",
    "    print(\"The number entered is a prime number\")\n",
    "else:\n",
    "    print(\"The number entered is not a prime number\")"
   ]
  },
  {
   "cell_type": "markdown",
   "id": "5f34ef65",
   "metadata": {},
   "source": [
    "### 167. Write a program to print prime numbers between given interval from user."
   ]
  },
  {
   "cell_type": "code",
   "execution_count": null,
   "id": "6f374425",
   "metadata": {},
   "outputs": [],
   "source": []
  },
  {
   "cell_type": "markdown",
   "id": "beaf1fe8",
   "metadata": {},
   "source": [
    "### 168. Draw a pattern using a python program: \n",
    "### *\n",
    "### * *\n",
    "### * * *\n",
    "### * * * *"
   ]
  },
  {
   "cell_type": "code",
   "execution_count": null,
   "id": "d5aa3db1",
   "metadata": {},
   "outputs": [],
   "source": [
    "i = 1\n",
    "while i<=4:\n",
    "    print(\"* \"*i)\n",
    "    i += 1\n",
    "# *\n",
    "# * *\n",
    "# * * *\n",
    "# * * * *"
   ]
  },
  {
   "cell_type": "markdown",
   "id": "2d695ae7",
   "metadata": {},
   "source": [
    "### 169. Draw a pattern:"
   ]
  },
  {
   "cell_type": "code",
   "execution_count": null,
   "id": "43493e52",
   "metadata": {},
   "outputs": [],
   "source": [
    "for i in range(5,0,-1):\n",
    "    print(\" \"*(5-i),'*'*i)\n",
    "\n",
    "\n",
    "#  *****\n",
    "#   ****\n",
    "#    ***\n",
    "#     **\n",
    "#      *"
   ]
  },
  {
   "cell_type": "markdown",
   "id": "7d3ee442",
   "metadata": {},
   "source": [
    "### 170."
   ]
  },
  {
   "cell_type": "code",
   "execution_count": null,
   "id": "efdeb4c7",
   "metadata": {},
   "outputs": [],
   "source": [
    "for i in range(1,5):\n",
    "    print(\" \"*(5-i),('*'+' ')*i)\n",
    "\n",
    "#      * \n",
    "#     * * \n",
    "#    * * * \n",
    "#   * * * * \n",
    "\n",
    "# for i in range(5,0,-1):\n",
    "#     print(\" \"*(5-i),('*'+' ')*i)\n",
    "    \n",
    "#  * * * * * \n",
    "#   * * * * \n",
    "#    * * * \n",
    "#     * * \n",
    "#      * "
   ]
  },
  {
   "cell_type": "markdown",
   "id": "53acd926",
   "metadata": {},
   "source": [
    "### 171."
   ]
  },
  {
   "cell_type": "code",
   "execution_count": null,
   "id": "90491ea7",
   "metadata": {},
   "outputs": [],
   "source": [
    "for i in range(5,0,-1):\n",
    "    print('*'*i)\n",
    "# *****\n",
    "# ****\n",
    "# ***\n",
    "# **\n",
    "# *"
   ]
  },
  {
   "cell_type": "markdown",
   "id": "02091e66",
   "metadata": {},
   "source": [
    "### 172."
   ]
  },
  {
   "cell_type": "code",
   "execution_count": null,
   "id": "2034bd77",
   "metadata": {},
   "outputs": [],
   "source": [
    "for i in range(5,0,-1):\n",
    "    for j in range(1, i+1):\n",
    "        print(j,end=\" \")\n",
    "    print()\n",
    "    \n",
    "# 1 2 3 4 5 \n",
    "# 1 2 3 4 \n",
    "# 1 2 3 \n",
    "# 1 2 \n",
    "# 1 "
   ]
  },
  {
   "cell_type": "markdown",
   "id": "77047f5e",
   "metadata": {},
   "source": [
    "### 173."
   ]
  },
  {
   "cell_type": "code",
   "execution_count": null,
   "id": "f387c8e2",
   "metadata": {},
   "outputs": [],
   "source": [
    "for i in range(1,5,1):\n",
    "    for j in range(1, i+1):\n",
    "        print(j,end=\" \")\n",
    "    print()\n",
    "# 1 \n",
    "# 1 2 \n",
    "# 1 2 3 \n",
    "# 1 2 3 4 "
   ]
  },
  {
   "cell_type": "markdown",
   "id": "a152490a",
   "metadata": {},
   "source": [
    "### 174."
   ]
  },
  {
   "cell_type": "code",
   "execution_count": null,
   "id": "e80cb17c",
   "metadata": {},
   "outputs": [],
   "source": [
    "for i in range(0,5):\n",
    "    print(i*str(i))\n",
    "\n",
    "# 1\n",
    "# 22\n",
    "# 333\n",
    "# 4444"
   ]
  },
  {
   "cell_type": "markdown",
   "id": "4cc15920",
   "metadata": {},
   "source": [
    "### 175."
   ]
  },
  {
   "cell_type": "code",
   "execution_count": null,
   "id": "f3213019",
   "metadata": {},
   "outputs": [],
   "source": [
    "for i in range(1,5):\n",
    "    if(i%2==0):\n",
    "        print('#'*i)\n",
    "    else:\n",
    "        print('*'*i)\n",
    "\n",
    "# *\n",
    "# ##\n",
    "# ***\n",
    "# ####"
   ]
  },
  {
   "cell_type": "markdown",
   "id": "ed929c27",
   "metadata": {},
   "source": [
    "### 176."
   ]
  },
  {
   "cell_type": "code",
   "execution_count": null,
   "id": "9add9562",
   "metadata": {},
   "outputs": [],
   "source": []
  },
  {
   "cell_type": "markdown",
   "id": "38d682b1",
   "metadata": {},
   "source": [
    "### 177."
   ]
  },
  {
   "cell_type": "code",
   "execution_count": null,
   "id": "756f43e6",
   "metadata": {},
   "outputs": [],
   "source": [
    "for i in range(1,5):\n",
    "    print(\" \"*(4-i),end=\" \")\n",
    "    for j in range(1, i+1):\n",
    "        print(j, end=\" \")\n",
    "    print()\n",
    "\n",
    "#     1 \n",
    "#    1 2 \n",
    "#   1 2 3 \n",
    "#  1 2 3 4"
   ]
  },
  {
   "cell_type": "markdown",
   "id": "3cfbf1b6",
   "metadata": {},
   "source": [
    "### 181. Write a python program to print all numbers between 1 and 100 (including 1 and 100) that are both, Disarium and Harshad numbers.\n",
    "### A number is said to be a Disarium number when the sum of its digit raised to the power of their respective positions \n",
    "### becomes equal to the number itself.\n",
    "### For example, 175 is a Disarium number as follows:\n",
    "### 11+ 72 + 53 = 1+ 49 + 125 = 175\n",
    "### A harshad number is a number that is divisible by the sum of its digits. E.g., the number 18 is a harshad number, because \n",
    "### the sum of the digits 1 and 8 is 9 (1 + 8 = 9), and 18 is divisible by 9. \n",
    "### Grading scheme:\n",
    "### 2 marks for writing correct code for checking Disarium number\n",
    "### 2 marks for writing correct code for checking Harshad number\n",
    "### 1 mark for writing correct code for only printing those numbers that are both, Disarium and Harshad numbers."
   ]
  },
  {
   "cell_type": "code",
   "execution_count": null,
   "id": "219926ed",
   "metadata": {},
   "outputs": [],
   "source": [
    "# num = int(input(\"Enter No.: \"))\n",
    "# l = len(str(num))\n",
    "# sum = 0\n",
    "# temp = num\n",
    "# r = l\n",
    "\n",
    "# while temp > 0:\n",
    "#    digit = temp % 10\n",
    "#    sum = sum + digit ** r\n",
    "#    temp //= 10\n",
    "#    r -= 1\n",
    "# print(sum)\n",
    "\n",
    "for num in range(1,1001):\n",
    "    hrsd = 0\n",
    "    l = len(str(num))\n",
    "    sum = 0\n",
    "    temp = num\n",
    "    r = l\n",
    "    while temp > 0:\n",
    "        digit = temp % 10\n",
    "        sum = sum + digit ** r\n",
    "        hrsd = hrsd + digit\n",
    "        temp //= 10\n",
    "        r -= 1\n",
    "    if(sum==num)and(num%hrsd==0):\n",
    "        print(num) \n",
    "'''Ans. is:\n",
    "1\n",
    "2\n",
    "3\n",
    "4\n",
    "5\n",
    "6\n",
    "7\n",
    "8\n",
    "9\n",
    "135\n",
    "518\n",
    "'''\n",
    "# Diasarium No.\n",
    "# 1\n",
    "# 2\n",
    "# 3\n",
    "# 4\n",
    "# 5\n",
    "# 6\n",
    "# 7\n",
    "# 8\n",
    "# 9\n",
    "# 89\n",
    "# 135\n",
    "# 175\n",
    "# 518\n",
    "# 598"
   ]
  },
  {
   "cell_type": "markdown",
   "id": "c22299b5",
   "metadata": {},
   "source": [
    "### 182. Ask the user to enter 10 test scores. Write a program to do the following:\n",
    "### a)\tIf user enters score greater than 100, then give warning to user that entered score is more than 100 and take that \n",
    "### input again from user. b)\tPrint out the highest and lowest scores.\n",
    "### c)\tPrint out the average of the scores. d)\tPrint out the second largest score.\n",
    "### e)\tDrop the two lowest scores and print out the average of the rest of them.\n",
    "### Note: Use of Python Data structures like string, list, tuple etc. and their inbuilt function is not allowed.\n",
    "### For Ex.\n",
    "### If Input is like following:\n",
    "### Enter Test Score: 80\n",
    "### Enter Test Score: 65\n",
    "### Enter Test Score: 98\n",
    "### Enter Test Score: 70\n",
    "### Enter Test Score: 93\n",
    "### Enter Test Score: 130\n",
    "### Entered score is more than hundred, so enter again\n",
    "### Enter Test Score: 95\n",
    "### Enter Test Score: 50\n",
    "### Enter Test Score: 40\n",
    "### Enter Test Score: 75\n",
    "### Enter Test Score: 72\n",
    "### Output should be:\n",
    "### Highest Score is: 98\n",
    "### Lowest Score is: 40\n",
    "### Average Test Score is: 73.8\n",
    "### Second Largest Score is: 95\n",
    "### Average after dropping the two lowest scores: 81.0"
   ]
  },
  {
   "cell_type": "code",
   "execution_count": null,
   "id": "596e1ba9",
   "metadata": {},
   "outputs": [],
   "source": [
    "s = 0\n",
    "f_max = 0\n",
    "f_min = 100\n",
    "c = 1\n",
    "while(c <= 10):\n",
    "    num = int(input(f\"Enter {c} Score : \"))\n",
    "    if(num>100):\n",
    "        print(\"Entered score is more than hundred, so enter again\")\n",
    "        continue\n",
    "    c += 1\n",
    "    s += num\n",
    "    if(num>f_max):\n",
    "        s_max = f_max\n",
    "        f_max = num\n",
    "    elif(num>s_max):\n",
    "        s_max = num\n",
    "    \n",
    "    if(num<f_min):\n",
    "        s_min = f_min\n",
    "        f_min = num\n",
    "    elif(num<s_min):\n",
    "        s_min = num\n",
    "    drop = s - f_min - s_min\n",
    "\n",
    "print(\"Highest Score is:\", f_max)\n",
    "print(\"Lowest Score is:\", f_min)\n",
    "print(\"Second Largest Score is:\", s_max)\n",
    "print(\"Average Test Score is:\", s/10)\n",
    "print(\"Average after dropping the two lowest scores:\", drop/8)"
   ]
  },
  {
   "cell_type": "markdown",
   "id": "70441af1",
   "metadata": {},
   "source": [
    "### 183. Write a program to encode a number by changing the digits in the given positive integer by user. The rule for changing the \n",
    "### digits in number will be:\n",
    "### If the digit in number is between 0 to 8 than replace the number with 1 to 9 respectively. (incrementing each digit by +1).\n",
    "### If the digit is 9, then replace it with 0.\n",
    "### To encode a number, replace digits in following manner:\n",
    "### For example:\n",
    "### Input: 31590218\n",
    "### Output: The number after encoding is: 42601329\n",
    "### For example:\n",
    "### Input: 9259\n",
    "### Output: The number after encoding is: 360\n",
    "### For example:\n",
    "### Input: 65217001\n",
    "### Output: The number after encoding is: 76328112\n",
    "### Original Digit in Number \t New Digit after Encoding\n",
    "### 0\t 1\n",
    "### 1\t 2\n",
    "### 2\t 3\n",
    "### 3\t 4\n",
    "### 4\t 5\n",
    "### 5\t 6\n",
    "### 6\t 7\n",
    "### 7\t 8\n",
    "### 8\t 9\n",
    "### 9\t 0\n",
    "### Note: Use of Python Data structures like string, list, tuple etc. and their inbuilt function is not allowed."
   ]
  },
  {
   "cell_type": "code",
   "execution_count": null,
   "id": "1e18fca1",
   "metadata": {},
   "outputs": [],
   "source": [
    "input_number = int(input(\"Enter a positive integer: \"))\n",
    "\n",
    "encoded_number = 0\n",
    "place = 1  # To keep track of the current place (units, tens, etc.)\n",
    "\n",
    "while input_number > 0:\n",
    "    digit = input_number % 10  # Get the last digit\n",
    "    input_number = input_number // 10  # Remove the last digit\n",
    "\n",
    "    # Apply encoding rules\n",
    "    if digit == 9:\n",
    "        new_digit = 0\n",
    "    else:\n",
    "        new_digit = digit + 1\n",
    "\n",
    "    # Build the encoded number\n",
    "    encoded_number += new_digit * place\n",
    "    place *= 10  # Move to the next place\n",
    "\n",
    "# Output the result\n",
    "print(\"The number after encoding is:\", encoded_number)"
   ]
  },
  {
   "cell_type": "markdown",
   "id": "35896500",
   "metadata": {},
   "source": [
    "### 184. Write a python program to swap first and last digits of a number using loop.\n",
    "### (for example: input = 123456 then output=623451) "
   ]
  },
  {
   "cell_type": "code",
   "execution_count": null,
   "id": "85ecce86",
   "metadata": {},
   "outputs": [],
   "source": [
    "n = int(input(\"Enter a No.: \"))\n",
    "l = len(str(n))\n",
    "# temp = n\n",
    "# l = 0\n",
    "# while temp>0:\n",
    "#     temp//=10\n",
    "#     l += 1\n",
    "last = n%10\n",
    "first = n //(10**(l-1))\n",
    "mid = (n%(10**(l-1)))//10\n",
    "new = last * (10 **(l-1))+ (mid*10)+ first\n",
    "print(new)"
   ]
  },
  {
   "cell_type": "markdown",
   "id": "2c5a689e",
   "metadata": {},
   "source": [
    "### 185."
   ]
  },
  {
   "cell_type": "code",
   "execution_count": null,
   "id": "84a6d1e5",
   "metadata": {},
   "outputs": [],
   "source": [
    "n = 5\n",
    "for i in range(1, n+1):\n",
    "    print(\"*\"*i,\" \"*((2*n)-(2*i)),'*'*i,sep=\"\")\n",
    "    \n",
    "for i in range(n-1, 0, -1):\n",
    "    print(\"*\"*i,\" \"*((2*n)-(2*i)),'*'*i,sep=\"\")\n",
    "    \n",
    "# for i in [1,2,3,4]:\n",
    "#     print(\"* \"*i)"
   ]
  },
  {
   "cell_type": "markdown",
   "id": "b1c05e14",
   "metadata": {},
   "source": [
    "### 186. Write a program to implement the calculator for the date of Easter.\n",
    "The following algorithm computes the date for Easter Sunday for any year between 1900 to 2099.\n",
    "Ask the user to enter a year. Compute the following:\n",
    "1.\ta = year % 19\n",
    "2.\tb = year % 4\n",
    "3.\tc = year % 7\n",
    "4.\td = (19 * a + 24) % 30\n",
    "5.\te = (2 * b + 4 * c + 6 * d + 5) % 7\n",
    "6.\tdateofeaster = 22 + d + e\n",
    "Special note: The algorithm can give a date in April. You will know that the date is in April if the calculation gives you an \n",
    "answer greater than 31. (You’ll need to adjust) Also, if the year is one of four special years (1954, 1981, 2049, or 2076) \n",
    "then subtract 7 from the date.\n",
    "Eg:\n",
    "Input: Year : 2022\n",
    "Expected Outcome: 2022-04-17 (i.e. 17th April 2022)"
   ]
  },
  {
   "cell_type": "code",
   "execution_count": null,
   "id": "0ec1ecfb",
   "metadata": {},
   "outputs": [],
   "source": [
    "year = int(input(\"Enter Year : \"))\n",
    "a = year % 19\n",
    "b = year % 4\n",
    "c = year % 7\n",
    "d = (19 * a + 24) % 30\n",
    "e = (2 * b + 4 * c + 6 * d + 5) % 7\n",
    "dateofeaster = 22 + d + e\n",
    "\n",
    "if(dateofeaster > 31):\n",
    "    month = 4  # April\n",
    "    dateofeaster -= 31  # Adjust for April\n",
    "else:\n",
    "    month = 3  # March\n",
    "\n",
    "    # Special years adjustment\n",
    "    if year in [1954, 1981, 2049, 2076]:\n",
    "        dateofeaster -= 7\n",
    "\n",
    "print(f\"{year}-{month:02d}-{dateofeaster:02d}\")"
   ]
  },
  {
   "cell_type": "markdown",
   "id": "88a5b5b1",
   "metadata": {},
   "source": [
    "### 187. Write a Python program to compute the greatest common divisor (GCD) of two positive integers.\n",
    "The greatest common divisor (GCD) of two nonzero integers a and b is the greatest positive integer d such that d is a \n",
    "divisor of both a and b; that is, there are integers e and f such that a = de and b = df, and d is the largest such integer. The \n",
    "GCD of a and b is generally denoted gcd(a, b). \n",
    "For example, the greatest common factor of 15 and 10 is 5, since both the numbers can be divided by 5."
   ]
  },
  {
   "cell_type": "code",
   "execution_count": null,
   "id": "ebde53a0",
   "metadata": {},
   "outputs": [],
   "source": [
    "def gcd(a, b):\n",
    "    while b != 0:\n",
    "        a, b = b, a % b\n",
    "    print(a)\n",
    "\n",
    "gcd(5,25)"
   ]
  },
  {
   "cell_type": "markdown",
   "id": "bf19f1b1",
   "metadata": {},
   "source": [
    "### 188. Write a python program that prompts the user to enter numbers and stops only when the use enter “QUIT” . After this print sum and average of the numbers, minimum and maximum number from given numbers entered by user.Note: you are not allowed to use any built in structures like, list ,tuple etc. or any builtin function like min, max etc.For Example: Input: 4,1,5,”QUIT”\n",
    "### Output: Sum=10 Average=3.333 Minimum number=1 Maximum number=5"
   ]
  },
  {
   "cell_type": "code",
   "execution_count": null,
   "id": "00cfece1",
   "metadata": {},
   "outputs": [],
   "source": [
    "flag = True\n",
    "sum = 0\n",
    "c = 0\n",
    "min, max = 0,0\n",
    "while(flag):\n",
    "    n = input(\"Enter : \")\n",
    "    if(n == 'QUIT'):\n",
    "#         flag = False\n",
    "        break\n",
    "    else:\n",
    "        a = int(n)\n",
    "        sum += a\n",
    "        if(c == 0):\n",
    "            min = a\n",
    "            max = a\n",
    "        c += 1\n",
    "        if(a < min):\n",
    "            min = a\n",
    "        elif(a > max):\n",
    "            max = a\n",
    "        \n",
    "print(f\"Sum={sum}\\nAverage={sum/c}\\nMinimum number={min}\\nMaximum number={max}\")"
   ]
  },
  {
   "cell_type": "markdown",
   "id": "b348174b",
   "metadata": {},
   "source": [
    "### 191. Write a Python program that prompts the user to enter numbers and stops only when the user enters “stop”. After this, print the minimum even, maximum even, average of even number, minimum odd, maximum odd, average of odd number from among all the numbers entered by the user.Note: You are not allowed to use any built-in structures like lists, tuples, etc. or any built-in functions like max, min, sum                            Example: input and output                                                                                                                                         enter number or q for'stop:'-1                                                                                                                                       enter number or q for'stop:'-5                                                                                                                                     enter number or q for'stop:'9                                                                                                                                       enter number or q for'stop:'2                                                                                                                                     enter number or q for'stop:'4                                                                                                                                         enter number or q for'stop:'6                                                                                                                                      enter number or q for'stop:'stop                                                                                                                                        Output:                                                                                                                                                                                 for even 6 2 4.0 (max, min, avg)                                                                                                                                       for odd 9 -5 1.0 (max, min, avg)\n"
   ]
  },
  {
   "cell_type": "code",
   "execution_count": null,
   "id": "2966c618",
   "metadata": {},
   "outputs": [],
   "source": [
    "flag = True\n",
    "osum, esum = 0,0\n",
    "ec, oc = 0,0\n",
    "omin, omax = 0,0\n",
    "emin, emax = 0,0\n",
    "\n",
    "while(flag):\n",
    "    n = input(\"Enter : \")\n",
    "    if(n == 'stop'):\n",
    "#         flag = False\n",
    "        break\n",
    "    else:\n",
    "        a = int(n)\n",
    "        if(a % 2 == 0):\n",
    "            esum += a\n",
    "            if(ec == 0):\n",
    "                emin = a\n",
    "                emax = a\n",
    "            ec += 1\n",
    "            if(a < emin):\n",
    "                emin = a\n",
    "            elif(a > emax):\n",
    "                emax = a\n",
    "        else:\n",
    "            osum += a\n",
    "            if(oc == 0):\n",
    "                omin = a\n",
    "                omax = a\n",
    "            oc += 1\n",
    "            if(a < omin):\n",
    "                omin = a\n",
    "            elif(a > omax):\n",
    "                omax = a\n",
    "        \n",
    "print(f\"for even Sum={esum} Average={esum/ec} Minimum number={emin} Maximum number={emax}\")\n",
    "print(f\"for odd Sum={osum} Average={osum/oc} Minimum number={omin} Maximum number={omax}\")\n"
   ]
  },
  {
   "cell_type": "code",
   "execution_count": null,
   "id": "42ced31e",
   "metadata": {},
   "outputs": [],
   "source": []
  },
  {
   "cell_type": "code",
   "execution_count": null,
   "id": "a46b12b7",
   "metadata": {},
   "outputs": [],
   "source": []
  }
 ],
 "metadata": {
  "kernelspec": {
   "display_name": "Python 3 (ipykernel)",
   "language": "python",
   "name": "python3"
  },
  "language_info": {
   "codemirror_mode": {
    "name": "ipython",
    "version": 3
   },
   "file_extension": ".py",
   "mimetype": "text/x-python",
   "name": "python",
   "nbconvert_exporter": "python",
   "pygments_lexer": "ipython3",
   "version": "3.8.5"
  }
 },
 "nbformat": 4,
 "nbformat_minor": 5
}

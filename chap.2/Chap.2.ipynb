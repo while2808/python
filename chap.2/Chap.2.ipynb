{
 "cells": [
  {
   "cell_type": "markdown",
   "id": "cf047a9f",
   "metadata": {},
   "source": [
    "# Chap.2 - Conditional Execution & Iterations"
   ]
  },
  {
   "cell_type": "code",
   "execution_count": null,
   "id": "326488ee",
   "metadata": {},
   "outputs": [],
   "source": [
    "if 1<5:\n",
    "    print(\"1<5\", 1<5)\n",
    "elif(1<22):\n",
    "    print(\"1 < 22\",1 < 22)\n",
    "else:\n",
    "    print(\"else part\")\n",
    "print(\"End\")"
   ]
  },
  {
   "cell_type": "code",
   "execution_count": null,
   "id": "c72e7119",
   "metadata": {},
   "outputs": [],
   "source": [
    "a = int(input(\"Enter Value : \"))\n",
    "b = int(input(\"Enter Value : \"))\n",
    "c = int(input(\"Enter Value : \"))\n",
    "if(a < b):\n",
    "    if(c < b):\n",
    "        print(\"b is greater\")\n",
    "    else:\n",
    "        print(\"c is greater\")\n",
    "elif(b < c):\n",
    "    if(c < a):\n",
    "        print(\"a is greater\")\n",
    "    else:\n",
    "        print(\"c is greater\")\n",
    "else:\n",
    "    print(\"a is greater\")"
   ]
  },
  {
   "cell_type": "code",
   "execution_count": null,
   "id": "220d3dad",
   "metadata": {},
   "outputs": [],
   "source": [
    "# Get input from the user\n",
    "a = float(input(\"Enter the first value: \"))\n",
    "b = float(input(\"Enter the second value: \"))\n",
    "c = float(input(\"Enter the third value: \"))\n",
    "\n",
    "# Check if all values are equal\n",
    "if a == b == c:\n",
    "    print(\"All values are equal.\")\n",
    "else:\n",
    "    # Compare to find the largest\n",
    "    if a >= b and a >= c:\n",
    "        largest = a\n",
    "    elif b >= a and b >= c:\n",
    "        largest = b\n",
    "    else:\n",
    "        largest = c\n",
    "\n",
    "    # Compare to find the smallest\n",
    "    if a <= b and a <= c:\n",
    "        smallest = a\n",
    "    elif b <= a and b <= c:\n",
    "        smallest = b\n",
    "    else:\n",
    "        smallest = c\n",
    "\n",
    "    print(f\"Largest value: {largest}\")\n",
    "    print(f\"Smallest value: {smallest}\")"
   ]
  },
  {
   "cell_type": "markdown",
   "id": "eea9d5e8",
   "metadata": {},
   "source": [
    "## Ternary if-else Condition"
   ]
  },
  {
   "cell_type": "code",
   "execution_count": null,
   "id": "dfe5dd6b",
   "metadata": {},
   "outputs": [],
   "source": [
    "a = float(input(\"Enter the first value: \"))\n",
    "b = float(input(\"Enter the second value: \"))\n",
    "c = float(input(\"Enter the third value: \"))\n",
    "\n",
    "x = \"a is >\"if (a>c) else  print(\"c is >\"), (\"b is >\")if(b>c) else (\"c is >\")\n",
    "\n",
    "# largest = a if (a >= b and a >= c) else (b if (b >= c) else c)\n",
    "\n",
    "# smallest = a if (a <= b and a <= c) else (b if (b <= c) else c)\n",
    "\n",
    "# print(f\"Largest value: {largest}\")\n",
    "# print(f\"Smallest value: {smallest}\")"
   ]
  },
  {
   "cell_type": "code",
   "execution_count": null,
   "id": "20b6ef10",
   "metadata": {},
   "outputs": [],
   "source": [
    "i = 1\n",
    "while(i<=10):\n",
    "    print(i)\n",
    "    i +=1\n",
    "    if(i == 6):\n",
    "        break\n",
    "else:\n",
    "    print(\"end of while\")\n",
    "print(\"end of code\")"
   ]
  },
  {
   "cell_type": "code",
   "execution_count": null,
   "id": "2d278cdf",
   "metadata": {},
   "outputs": [],
   "source": [
    "i = 1\n",
    "while i<=5:\n",
    "    print(\"* \"*i)\n",
    "    i += 1\n",
    "# *\n",
    "# * *\n",
    "# * * *\n",
    "# * * * *\n",
    "# * * * * *"
   ]
  },
  {
   "cell_type": "code",
   "execution_count": null,
   "id": "178986e8",
   "metadata": {},
   "outputs": [],
   "source": [
    "i = 5\n",
    "while i>=1:\n",
    "    print(\"* \"*i)\n",
    "    i -= 1"
   ]
  },
  {
   "cell_type": "markdown",
   "id": "abad0b31",
   "metadata": {},
   "source": [
    "## for loop"
   ]
  },
  {
   "cell_type": "code",
   "execution_count": null,
   "id": "42efceda",
   "metadata": {},
   "outputs": [],
   "source": [
    "for i in 'Hello':\n",
    "    print(i)\n",
    "# i -> initialize | iterating 'Hello'"
   ]
  },
  {
   "cell_type": "code",
   "execution_count": null,
   "id": "ebb6805c",
   "metadata": {},
   "outputs": [],
   "source": [
    "for i in [1,2,3,4,5]:\n",
    "    print(\"* \"*i)\n",
    "\n",
    "y = (6,5,4,3,2,1)\n",
    "for i in y:\n",
    "    print(\"* \"*i)\n",
    "    \n",
    "# for i in range(6):\n",
    "#     print(\"* \"*i)\n",
    "\n",
    "# * \n",
    "# * * \n",
    "# * * * \n",
    "# * * * * \n",
    "# * * * * * \n",
    "# * * * * * * \n",
    "# * * * * * \n",
    "# * * * * \n",
    "# * * * \n",
    "# * * \n",
    "# * "
   ]
  },
  {
   "cell_type": "code",
   "execution_count": null,
   "id": "5d6552f8",
   "metadata": {},
   "outputs": [],
   "source": [
    "for i in range(0, 10, 2):\n",
    "    print(i)\n",
    "\n",
    "list(range(0,10,2)) # [0, 2, 4, 6, 8]"
   ]
  },
  {
   "cell_type": "code",
   "execution_count": null,
   "id": "1c692711",
   "metadata": {},
   "outputs": [],
   "source": [
    "for i in range(1,6):\n",
    "    print(\"* \"*i)"
   ]
  },
  {
   "cell_type": "code",
   "execution_count": null,
   "id": "4186f0dd",
   "metadata": {},
   "outputs": [],
   "source": [
    "n = int(input())\n",
    "for i in range(n,0,-1):\n",
    "    print(\"* \"*i)"
   ]
  }
 ],
 "metadata": {
  "kernelspec": {
   "display_name": "Python 3 (ipykernel)",
   "language": "python",
   "name": "python3"
  },
  "language_info": {
   "codemirror_mode": {
    "name": "ipython",
    "version": 3
   },
   "file_extension": ".py",
   "mimetype": "text/x-python",
   "name": "python",
   "nbconvert_exporter": "python",
   "pygments_lexer": "ipython3",
   "version": "3.8.5"
  }
 },
 "nbformat": 4,
 "nbformat_minor": 5
}
